{
  "nbformat": 4,
  "nbformat_minor": 0,
  "metadata": {
    "colab": {
      "provenance": []
    },
    "kernelspec": {
      "name": "python3",
      "display_name": "Python 3"
    },
    "language_info": {
      "name": "python"
    }
  },
  "cells": [
    {
      "cell_type": "code",
      "execution_count": null,
      "metadata": {
        "id": "mM0g7lggR9Yi"
      },
      "outputs": [],
      "source": [
        "import pandas as pd"
      ]
    },
    {
      "cell_type": "code",
      "source": [
        "df = pd.read_csv('oqmd_data.csv')"
      ],
      "metadata": {
        "id": "2m7Ms45FR_uD"
      },
      "execution_count": null,
      "outputs": []
    },
    {
      "cell_type": "code",
      "source": [
        "enantiomorphic = ['P1', 'P2', 'P21', 'C2', 'P222', 'P2221', 'P21212', 'P212121', 'C222', 'C2221', 'F222', 'I222', 'I212121', 'P4', 'P41', 'P42', 'P43', 'I4', 'I41', 'P422', 'P4212', 'P4122', 'P41212',\n",
        "                  'P4222', 'P42212', 'P4322', 'P43212', 'I422', 'I4212', 'P3', 'P31', 'P32', 'R3', 'P312', 'P3112', 'P3212', 'P321', 'P3121', 'P3221', 'R32', 'P6', 'P61', 'P62', 'P63', 'P64', 'P65',\n",
        "                  'P622', 'P6122', 'P6222', 'P6322', 'P6422', 'P6522', 'P23', 'P213', 'F23', 'I23', 'I213', 'P432', 'P4232', 'P4332', 'P4132', 'F432', 'F4132', 'I432', 'I4132']\n",
        "\n",
        "centrosymmetric = ['P-1', 'P2/m', 'P21m', 'P2/c', 'P21c', 'C2/m', 'C2/c', 'Pmmm', 'Pnnn', 'Pccm', 'Pban', 'Pmma', 'Pnna', 'Pmna', 'Pcca', 'Pbam', 'Pccn', 'Pbcm', 'Pnnm', 'Pmmn', 'Pbcn', 'Pbca', 'Pnma',\n",
        "                   'Cmmm', 'Cmcm', 'Cmca', 'Cccm', 'Cmma', 'Ccca', 'Fmmm', 'Fddd', 'Immm', 'Ibam', 'Ibcm', 'Imma', 'P4/m', 'P42/m', 'P4/n', 'P42/n', 'I4/m', 'I41/a', 'P4/mmm', 'P4/mcc', 'P4/nbm',\n",
        "                   'P4/nnc', 'P4/mbm', 'P4/mnc', 'P4/nmm', 'P4/ncc', 'P42/mmc', 'P42/mcm', 'P42/nbc', 'P42/nnm', 'P42/mbc', 'P42/mcm', 'P42/nmc', 'P42/ncm', 'I4/mmm', 'I4/mcm', 'I41/amd', 'I41/acd',\n",
        "                   'P-3', 'R-3', 'P-31m', 'P-31c', 'P-3m1', 'P-3c1', 'R-3m', 'R-3c', 'P6/m', 'P63/m', 'P6/mmm', 'P6/mcc', 'P63/mcm', 'P63/mmc', 'Pm-3', 'Pn-3', 'Pa-3', 'Fm-3', 'Fd-3', 'Im-3', 'Ia-3',\n",
        "                   'Pm-3m', 'Pn-3n', 'Pm-3n', 'Pn-3m', 'Fm-3m', 'Fm-3m', 'Fd-3m', 'Fd-3c', 'Im-3m', 'Ia-3d']\n",
        "\n",
        "df['prop'] = df['sg'].apply(lambda x: 0 if x in enantiomorphic else (1 if x in centrosymmetric else 2))"
      ],
      "metadata": {
        "id": "n-JyL7ZrSEWK"
      },
      "execution_count": null,
      "outputs": []
    },
    {
      "cell_type": "code",
      "source": [
        "pairs = {\n",
        "    'P1':1,'P-1':2,'P2': 3, 'P21': 4, 'C2': 5, 'Pm': 6, 'Pc': 7, 'Cm': 8, 'Cc': 9, 'P2/m': 10, 'P21/m': 11, 'C2/m': 12,\n",
        "    'P2/c': 13, 'P21/c': 14, 'C2/c': 15, 'P222': 16, 'P2221': 17, 'P21212': 18, 'P212121': 19, 'C2221': 20,\n",
        "    'C222': 21, 'F222': 22, 'I222': 23, 'I212121': 24, 'Pmm2': 25, 'Pmc21': 26, 'Pcc2': 27, 'Pma2': 28,\n",
        "    'Pca21': 29, 'Pnc2': 30, 'Pmn21': 31, 'P b a2': 32, 'Pna21': 33, 'Pnn2': 34, 'Cmm2': 35, 'C m c21': 36,\n",
        "    'Ccc2': 37, 'Amm2': 38, 'Aem2': 39, 'A m a2': 40, 'Aea2': 41, 'Fmm2': 42, 'Fdd2': 43, 'I m m2': 44,\n",
        "    'Iba2': 45, 'Ima2': 46, 'Pmmm': 47, 'P n n n': 48, 'Pccm': 49, 'Pban': 50, 'Pmma': 51, 'P n n a': 52,\n",
        "    'Pmna': 53, 'Pcca': 54, 'Pbam': 55, 'P c c n': 56, 'Pbcm': 57, 'Pnnm': 58, 'Pmmn': 59, 'P b c n': 60,\n",
        "    'Pbca': 61, 'Pnma': 62, 'Cmcm': 63, 'C m c a': 64, 'Cmmm': 65, 'Cccm': 66, 'Cmme': 67, 'C c c e': 68,\n",
        "    'Fmmm': 69, 'Fddd': 70, 'Immm': 71, 'I b a m': 72, 'Ibca': 73, 'Imma': 74, 'P4': 75, 'P41': 76, 'P42': 77,\n",
        "    'P43': 78, 'I4': 79, 'I41': 80, 'P-4': 81, 'I-4': 82, 'P4/m': 83, 'P42/m': 84, 'P4/n': 85, 'P42/n': 86,\n",
        "    'I4/m': 87, 'I41/a': 88, 'P422': 89, 'P4212': 90, 'P4122': 91, 'P41212': 92, 'P4222': 93, 'P42212': 94,\n",
        "    'P4322': 95, 'P43212': 96, 'I422': 97, 'I4122': 98, 'P4mm': 99, 'P4bm': 100, 'P42cm': 101, 'P42nm': 102,\n",
        "    'P4cc': 103, 'P4nc': 104, 'P42mc': 105, 'P42bc': 106, 'I4mm': 107, 'I4cm': 108, 'I41md': 109, 'I41cd': 110,\n",
        "    'P -42m': 111, 'P-42c': 112, 'P-421m': 113, 'P-421c': 114, 'P -4 m2': 115, 'P-4c2': 116, 'P-4b2': 117,\n",
        "    'P-4n2': 118, 'I -4 m2': 119, 'I-4c2': 120, 'I-42m': 121, 'I-42d': 122, 'P4/mmm': 123, 'P4/mcc': 124,\n",
        "    'P4/nbm': 125, 'P4/nnc': 126, 'P4/mbm': 127, 'P4/mnc': 128, 'P4/nmm': 129, 'P4/ncc': 130, 'P42/mmc': 131,\n",
        "    'P42/mcm': 132, 'P42/nbc': 133, 'P42/nnm': 134, 'P42/mbc': 135, 'P42/mnm': 136, 'P42/nmc': 137, 'P42/ncm': 138,\n",
        "    'I4/mmm': 139, 'I4/mcm': 140, 'I41/amd': 141, 'I41/acd': 142, 'P3': 143, 'P31': 144, 'P32': 145, 'R3': 146,\n",
        "    'P -3': 147, 'R-3': 148, 'P312': 149, 'P321': 150, 'P3112': 151, 'P3121': 152, 'P3212': 153, 'P3221': 154,\n",
        "    'R32': 155, 'P3m1': 156, 'P31m': 157, 'P3c1': 158, 'P31c': 159, 'R3m': 160, 'R3c': 161, 'P-31m': 162,\n",
        "    'P -31c': 163, 'P-3m1': 164, 'P-3c1': 165, 'R-3m': 166, 'R -3 c': 167, 'P6': 168, 'P61': 169, 'P65': 170,\n",
        "    'P62': 171, 'P64': 172, 'P63': 173, 'P-6': 174, 'P6/m': 175, 'P63/m': 176, 'P622': 177, 'P6122': 178,\n",
        "    'P6522': 179, 'P6222': 180, 'P6422': 181, 'P6322': 182,'P6mm': 183, 'P6cc': 184, 'P63cm': 185, 'P63mc': 186,\n",
        "    'P-6m2': 187, 'P -6 c2': 188, 'P-62m': 189, 'P-62c': 190, 'P6/mmm': 191, 'P6/mcc': 192, 'P63/mcm': 193, 'P63/mmc': 194,\n",
        "    'P23': 195, 'F23': 196, 'I23': 197, 'P213': 198, 'I213': 199, 'Pm-3': 200, 'Pn-3': 201, 'Fm-3': 202, 'F d -3': 203, 'Im-3': 204,\n",
        "    'Pa-3': 205, 'Ia-3': 206, 'P432': 207, 'P4232': 208, 'F432': 209, 'F4132': 210, 'I432': 211, 'P4332': 212, 'P4132': 213, 'I4132': 214,\n",
        "    'P -43m': 215, 'F-43m': 216, 'I-43m': 217, 'P-43n': 218, 'F -43c': 219, 'I-43d': 220, 'Pm-3m': 221, 'Pn-3n': 222, 'P m -3 n': 223,\n",
        "    'Pn-3m': 224, 'Fm-3m': 225, 'Fm-3c': 226, 'F d -3 m': 227, 'Fd-3c': 228, 'Im-3m': 229, 'Ia-3d': 230}\n",
        "\n",
        "pairs_no_spaces = {key.replace(' ', ''): value for key, value in pairs.items()}\n",
        "df['res_sg'] = df['sg'].replace(pairs_no_spaces)"
      ],
      "metadata": {
        "id": "wINOY13CSF-k"
      },
      "execution_count": null,
      "outputs": []
    },
    {
      "cell_type": "code",
      "source": [
        "df['cs1'] = df['cs'].replace({'triclinic':1, 'monoclinic':2, 'orthorhombic':3, 'tetragonal':4, 'trigonal':5, 'hexagonal':6, 'cubic':7})\n",
        "df.drop(['cs'],inplace = True,axis = 1)"
      ],
      "metadata": {
        "id": "ihUgPFCFSHd2"
      },
      "execution_count": null,
      "outputs": []
    },
    {
      "cell_type": "code",
      "source": [
        "df.drop(['name','entry_id','sg','icsd_id','Es','rsp_mean','rsp_std','av_rsp_mean','av_rsp_std'],inplace = True, axis = 1)"
      ],
      "metadata": {
        "id": "MmlqO_LsTRYY"
      },
      "execution_count": null,
      "outputs": []
    },
    {
      "cell_type": "code",
      "source": [
        "y_ef = df['Ef']\n",
        "y_eg = df['Eg']\n",
        "X = pd.DataFrame(df.drop(['Eg','Ef','iupac_mean','iupac_std',],axis = 1))"
      ],
      "metadata": {
        "id": "vy8H6cWzTWWR"
      },
      "execution_count": null,
      "outputs": []
    },
    {
      "cell_type": "code",
      "source": [
        "X.to_csv('pre_EF_data.csv', index=False)"
      ],
      "metadata": {
        "id": "0-KyrjnVTkNs"
      },
      "execution_count": null,
      "outputs": []
    },
    {
      "cell_type": "code",
      "source": [
        "y_ef.to_csv('y_EF.csv', index=False)"
      ],
      "metadata": {
        "id": "yuRDlLR0TrDA"
      },
      "execution_count": null,
      "outputs": []
    },
    {
      "cell_type": "code",
      "source": [
        "y_eg.to_csv('y_EG.csv', index=False)"
      ],
      "metadata": {
        "id": "MTkWVUG7TtTG"
      },
      "execution_count": null,
      "outputs": []
    }
  ]
}